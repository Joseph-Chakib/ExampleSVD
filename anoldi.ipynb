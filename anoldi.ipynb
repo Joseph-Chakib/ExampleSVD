{
 "cells": [
  {
   "cell_type": "code",
   "execution_count": 12,
   "metadata": {},
   "outputs": [],
   "source": [
    "import numpy as np\n",
    "\n",
    "# Define matrix A (example 4x4 matrix)\n",
    "A = np.array([[4, 1, 0, 0],\n",
    "              [1, 3, 1, 0],\n",
    "              [0, 1, 2, 1],\n",
    "              [0, 0, 1, 2]])\n",
    "\n",
    "# Define an initial vector v1 (normalize it)\n",
    "v1 = np.array([1, 1, 1, 1])\n",
    "v1 = v1 / np.linalg.norm(v1)  # Normalize the initial vector"
   ]
  },
  {
   "cell_type": "code",
   "execution_count": 13,
   "metadata": {},
   "outputs": [],
   "source": [
    "m = 3\n",
    "n = A.shape[0]\n",
    "\n",
    "V = np.zeros((n, m + 1))  # Orthonormal basis vectors\n",
    "H = np.zeros((m + 1, m))  # Hessenberg matrix\n",
    "V[:, 0] = v1  # Set the first column of V as the normalized initial vector\n"
   ]
  },
  {
   "cell_type": "code",
   "execution_count": 14,
   "metadata": {},
   "outputs": [],
   "source": [
    "for j in range(m):\n",
    "    # Step 1: Matrix-vector multiplication\n",
    "    w = A @ V[:, j]  # Multiply the last vector in V by A\n",
    "\n",
    "    # Step 2: Orthonormalize w with respect to previous vectors\n",
    "    for i in range(j + 1):\n",
    "        H[i, j] = np.dot(V[:, i], w)  # Compute the i-th component in the j-th column of H\n",
    "        w = w - H[i, j] * V[:, i]     # Subtract the component from w\n",
    "\n",
    "    # Step 3: Compute the norm of w\n",
    "    H[j + 1, j] = np.linalg.norm(w)   # Off-diagonal element of H\n",
    "\n",
    "    # Step 4: Normalize w to get the next basis vector v_{j+1}\n",
    "    if H[j + 1, j] != 0:\n",
    "        V[:, j + 1] = w / H[j + 1, j]  # Add new basis vector"
   ]
  },
  {
   "cell_type": "code",
   "execution_count": 15,
   "metadata": {},
   "outputs": [
    {
     "name": "stdout",
     "output_type": "stream",
     "text": [
      "Orthonormal Basis V:\n",
      " [[ 0.5         0.45226702  0.56853524]\n",
      " [ 0.5         0.45226702 -0.21320072]\n",
      " [ 0.5        -0.15075567 -0.71066905]\n",
      " [ 0.5        -0.75377836  0.35533453]]\n",
      "\n",
      "Hessenberg Matrix H:\n",
      " [[ 4.25000000e+00  8.29156198e-01 -4.44089210e-16]\n",
      " [ 8.29156198e-01  3.11363636e+00  7.71389216e-01]\n",
      " [ 0.00000000e+00  7.71389216e-01  2.24747475e+00]\n",
      " [ 0.00000000e+00  0.00000000e+00  9.21284664e-01]]\n"
     ]
    }
   ],
   "source": [
    "import numpy as np\n",
    "\n",
    "def arnoldi_iteration(A, v1, m):\n",
    "    \"\"\"\n",
    "    Perform m steps of the Arnoldi iteration on matrix A with initial vector v1.\n",
    "    Returns the orthonormal basis V and the Hessenberg matrix H.\n",
    "    \"\"\"\n",
    "    n = A.shape[0]\n",
    "    V = np.zeros((n, m + 1))  # Matrix to hold orthonormal basis vectors\n",
    "    H = np.zeros((m + 1, m))  # Upper Hessenberg matrix\n",
    "\n",
    "    # Normalize the initial vector v1\n",
    "    V[:, 0] = v1 / np.linalg.norm(v1)\n",
    "\n",
    "    # Arnoldi iteration loop\n",
    "    for j in range(m):\n",
    "        w = A @ V[:, j]\n",
    "        \n",
    "        # Gram-Schmidt process\n",
    "        for i in range(j + 1):\n",
    "            H[i, j] = np.dot(V[:, i], w)\n",
    "            w = w - H[i, j] * V[:, i]\n",
    "\n",
    "        # Compute the next Hessenberg entry\n",
    "        H[j + 1, j] = np.linalg.norm(w)\n",
    "        \n",
    "        # If w is non-zero, normalize and add as the next basis vector\n",
    "        if H[j + 1, j] != 0:\n",
    "            V[:, j + 1] = w / H[j + 1, j]\n",
    "\n",
    "    return V[:, :m], H[:m + 1, :m]\n",
    "\n",
    "# Example usage\n",
    "A = np.array([[4, 1, 0, 0],\n",
    "              [1, 3, 1, 0],\n",
    "              [0, 1, 2, 1],\n",
    "              [0, 0, 1, 2]])\n",
    "\n",
    "v1 = np.array([1, 1, 1, 1])  # Initial vector\n",
    "m = 3  # Number of Arnoldi steps\n",
    "\n",
    "V, H = arnoldi_iteration(A, v1, m)\n",
    "print(\"Orthonormal Basis V:\\n\", V)\n",
    "print(\"\\nHessenberg Matrix H:\\n\", H)"
   ]
  },
  {
   "cell_type": "code",
   "execution_count": null,
   "metadata": {},
   "outputs": [],
   "source": [
    "def arnoldi(iterations, sparse_matrix, start_vector):\n",
    "    H = np.zeros(shape=(iterations + 1, iterations))\n",
    "    orthonormal_basis = [start_vector]\n",
    "    for k in range(0, n-1):\n",
    "        v = A @ orthonormal_basis[k]\n",
    "        for j in range(0, k):\n",
    "            H[j][k] = np.dot(orthonormal_basis[k], v)\n",
    "            v = v - H[j][k] @ orthonormal_basis[j]\n",
    "        H[k+1][k] = np.linalg.norm(v)\n",
    "        new_orthonormal_basis_vector = v / H[k+1][k]\n",
    "        orthonormal_basis.append(new_orthonormal_basis_vector)\n",
    "    \n",
    "    return H, orthonormal_basis\n"
   ]
  },
  {
   "cell_type": "code",
   "execution_count": 16,
   "metadata": {},
   "outputs": [],
   "source": [
    "n = 3\n",
    "H = np.zeros(shape=(n, n))\n",
    "A = np.array([[2, -1, 0],\n",
    "              [-1, 2, -1],\n",
    "              [0, -1, 2]])\n",
    "b = np.array([1, 0, 0])"
   ]
  },
  {
   "cell_type": "code",
   "execution_count": 17,
   "metadata": {},
   "outputs": [],
   "source": [
    "import numpy as np\n",
    "\n",
    "def arnoldi(iterations, sparse_matrix, start_vector):\n",
    "    n = iterations  # Number of iterations/Krylov subspace dimension\n",
    "    H = np.zeros((n + 1, n))  # Hessenberg matrix, (n+1) x n\n",
    "    orthonormal_basis = [start_vector / np.linalg.norm(start_vector)]  # Normalize start vector\n",
    "\n",
    "    for k in range(n):\n",
    "        v = sparse_matrix @ orthonormal_basis[k]  # Apply matrix to the k-th basis vector\n",
    "        for j in range(k + 1):\n",
    "            H[j, k] = np.dot(orthonormal_basis[j], v)\n",
    "            v = v - H[j, k] * orthonormal_basis[j]  # Orthogonalize against existing basis\n",
    "\n",
    "        H[k + 1, k] = np.linalg.norm(v)\n",
    "        if H[k + 1, k] > 1e-10:  # Tolerance to handle near-zero norm\n",
    "            orthonormal_basis.append(v / H[k + 1, k])\n",
    "        else:\n",
    "            break\n",
    "\n",
    "    return H[:k + 2, :k + 1], orthonormal_basis"
   ]
  },
  {
   "cell_type": "code",
   "execution_count": 20,
   "metadata": {},
   "outputs": [
    {
     "name": "stdout",
     "output_type": "stream",
     "text": [
      "[[2. 1. 0.]\n",
      " [1. 2. 1.]\n",
      " [0. 1. 2.]\n",
      " [0. 0. 0.]]\n",
      "[array([1., 0., 0.]), array([ 0., -1.,  0.]), array([0., 0., 1.])]\n",
      "[[2 1]\n",
      " [1 2]\n",
      " [0 1]]\n"
     ]
    }
   ],
   "source": [
    "A = np.array([[2, -1, 0],\n",
    "              [-1, 2, -1],\n",
    "              [0, -1, 2]])\n",
    "b = np.array([1, 0, 0])\n",
    "\n",
    "H, basis_vectors = arnoldi(3, A, b)\n",
    "\n",
    "print(H)\n",
    "print(basis_vectors)\n",
    "\n",
    "Q_two = np.array([[1, 0],[0, -1], [0, 0]])\n",
    "Q_three = np.array([[1, 0, 0], [0, -1, 0], [0, 0, 1]])\n",
    "\n",
    "print(Q_three @ A @ Q_two)"
   ]
  },
  {
   "cell_type": "code",
   "execution_count": 23,
   "metadata": {},
   "outputs": [
    {
     "name": "stdout",
     "output_type": "stream",
     "text": [
      "[[2 1 0]\n",
      " [1 2 1]\n",
      " [0 1 2]]\n"
     ]
    }
   ],
   "source": [
    "# Because some computer scientist a long time ago decided to start series for n=0 we have Q_three is Q_two in the textbook\n",
    "tridiagonal = np.transpose(Q_three) @ A @ Q_three\n",
    "print(tridiagonal)"
   ]
  },
  {
   "cell_type": "code",
   "execution_count": 30,
   "metadata": {},
   "outputs": [
    {
     "data": {
      "text/plain": [
       "{C: 21/20, D: 41/10}"
      ]
     },
     "execution_count": 30,
     "metadata": {},
     "output_type": "execute_result"
    }
   ],
   "source": [
    "from sympy import Matrix, symbols, diff, solve, Eq\n",
    "\n",
    "# Define symbolic variables for x\n",
    "C, D = symbols('C D')\n",
    "x = Matrix([C, D])\n",
    "\n",
    "# Define matrices A and b\n",
    "A = Matrix([[1, 0], [1, 1], [1, 3], [1, 4]])\n",
    "b = Matrix([0, 8, 9, 20])\n",
    "\n",
    "# Compute ||Ax - b||^2\n",
    "Ax_minus_b = A * x - b\n",
    "norm_squared = (Ax_minus_b.T * Ax_minus_b)[0]\n",
    "\n",
    "E = norm_squared.simplify()\n",
    "\n",
    "partial_C = E.diff(C)\n",
    "partial_D = E.diff(D)\n",
    "\n",
    "\n",
    "# Define equations\n",
    "equation1 = Eq(partial_C, 0)\n",
    "equation2 = Eq(partial_D, 0)\n",
    "\n",
    "# Solve the system\n",
    "solution = solve((equation1, equation2), (C, D))\n",
    "\n",
    "# Display the solution\n",
    "solution"
   ]
  },
  {
   "cell_type": "code",
   "execution_count": 32,
   "metadata": {},
   "outputs": [
    {
     "name": "stdout",
     "output_type": "stream",
     "text": [
      "[0.525 2.05 ]\n"
     ]
    }
   ],
   "source": [
    "xval = 21/20\n",
    "yval = 41/10\n",
    "\n",
    "vector = np.array([xval, yval]) / 2"
   ]
  }
 ],
 "metadata": {
  "kernelspec": {
   "display_name": "MLOPS",
   "language": "python",
   "name": "python3"
  },
  "language_info": {
   "codemirror_mode": {
    "name": "ipython",
    "version": 3
   },
   "file_extension": ".py",
   "mimetype": "text/x-python",
   "name": "python",
   "nbconvert_exporter": "python",
   "pygments_lexer": "ipython3",
   "version": "3.9.20"
  },
  "orig_nbformat": 4,
  "vscode": {
   "interpreter": {
    "hash": "c038a867bd1802c21922bafc2ce5bf74970f2cd19e863edeaabfa8983452c32e"
   }
  }
 },
 "nbformat": 4,
 "nbformat_minor": 2
}
