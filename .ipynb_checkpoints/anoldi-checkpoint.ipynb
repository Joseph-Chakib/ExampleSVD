{
 "cells": [
  {
   "cell_type": "code",
   "execution_count": null,
   "metadata": {},
   "outputs": [],
   "source": []
  }
 ],
 "metadata": {
  "kernelspec": {
   "display_name": "MLOPS",
   "language": "python",
   "name": "python3"
  },
  "language_info": {
   "name": "python",
   "version": "3.9.20 (main, Oct  3 2024, 02:27:54) \n[Clang 14.0.6 ]"
  },
  "orig_nbformat": 4,
  "vscode": {
   "interpreter": {
    "hash": "c038a867bd1802c21922bafc2ce5bf74970f2cd19e863edeaabfa8983452c32e"
   }
  }
 },
 "nbformat": 4,
 "nbformat_minor": 2
}
